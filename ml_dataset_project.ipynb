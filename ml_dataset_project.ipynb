{
 "cells": [
  {
   "cell_type": "code",
   "execution_count": 2,
   "id": "9a76d602-e87a-440e-861a-f42914fcfc1a",
   "metadata": {},
   "outputs": [],
   "source": [
    "#import necessary libraries\n",
    "import pandas as pd\n",
    "import numpy as np\n",
    "import matplotlib.pyplot as plt\n",
    "from sklearn.datasets import fetch_california_housing\n",
    "from sklearn.model_selection import train_test_split\n",
    "from sklearn.linear_model import LinearRegression\n",
    "from sklearn.metrics import mean_squared_error, r2_score\n"
   ]
  },
  {
   "cell_type": "code",
   "execution_count": 1,
   "id": "e8c6e5fd-87cd-4b0c-91ee-ec304b907e63",
   "metadata": {
    "scrolled": true
   },
   "outputs": [],
   "source": [
    "#Load California Housing Dataset\n",
    "from sklearn.datasets import fetch_california_housing\n",
    "housing = fetch_california_housing(as_frame=True)\n",
    "\n",
    "\n"
   ]
  },
  {
   "cell_type": "code",
   "execution_count": null,
   "id": "352442c5-5883-419c-b3ee-a2850328423f",
   "metadata": {},
   "outputs": [],
   "source": [
    "# Display the first 5 rows\n",
    "df = pd.read_csv(\"data/housing_csv\")"
   ]
  },
  {
   "cell_type": "code",
   "execution_count": null,
   "id": "f04f1350-58eb-402d-989e-c4a14882b0ea",
   "metadata": {},
   "outputs": [],
   "source": [
    "# Scatte"
   ]
  }
 ],
 "metadata": {
  "kernelspec": {
   "display_name": "Python 3 (ipykernel)",
   "language": "python",
   "name": "python3"
  },
  "language_info": {
   "codemirror_mode": {
    "name": "ipython",
    "version": 3
   },
   "file_extension": ".py",
   "mimetype": "text/x-python",
   "name": "python",
   "nbconvert_exporter": "python",
   "pygments_lexer": "ipython3",
   "version": "3.12.8"
  }
 },
 "nbformat": 4,
 "nbformat_minor": 5
}
